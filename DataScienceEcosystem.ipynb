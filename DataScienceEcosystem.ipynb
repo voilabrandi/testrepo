{
 "cells": [
  {
   "cell_type": "markdown",
   "id": "3a9a3156",
   "metadata": {},
   "source": [
    "# Data Science Tools and Ecosystem"
   ]
  },
  {
   "cell_type": "markdown",
   "id": "eb622866",
   "metadata": {},
   "source": [
    "In this notebook, Data Science Tools and Ecosystem are summarized."
   ]
  },
  {
   "cell_type": "markdown",
   "id": "3e454984",
   "metadata": {},
   "source": [
    "Some of the languages that are popularly used for Data Science are: \n",
    "1. Python \n",
    "2. R \n",
    "3. SQL\n",
    "4. Scala\n",
    "5. Java\n",
    "6. C++\n",
    "7. Julia \n",
    "8. Go\n",
    "9. Ruby\n"
   ]
  },
  {
   "cell_type": "markdown",
   "id": "b83f98df",
   "metadata": {},
   "source": [
    "A library is a collection of pre-written code. Data Scientists also make the use of libraries. Some of these include :\n",
    "1. NumPy\n",
    "2. Pandas \n",
    "3. Matplotlib, "
   ]
  },
  {
   "cell_type": "markdown",
   "id": "e9e76592",
   "metadata": {},
   "source": [
    "|Data Science Tools|\n",
    "-----------------------------\n",
    "|Visual Sudio Code|\n",
    "|Atom|\n",
    "|PyCharms|\n"
   ]
  },
  {
   "cell_type": "markdown",
   "id": "330c51fd",
   "metadata": {},
   "source": [
    "### Below are a few examples of evaluating arithmetic expressions in Python"
   ]
  },
  {
   "cell_type": "code",
   "execution_count": 1,
   "id": "fd0ef9cf",
   "metadata": {},
   "outputs": [
    {
     "data": {
      "text/plain": [
       "17"
      ]
     },
     "execution_count": 1,
     "metadata": {},
     "output_type": "execute_result"
    }
   ],
   "source": [
    "#This a simple arithmetic expression to mutiply then add integers\n",
    "(3*4)+5"
   ]
  },
  {
   "cell_type": "code",
   "execution_count": 2,
   "id": "9beca9be",
   "metadata": {},
   "outputs": [
    {
     "data": {
      "text/plain": [
       "3.3333333333333335"
      ]
     },
     "execution_count": 2,
     "metadata": {},
     "output_type": "execute_result"
    }
   ],
   "source": [
    "# This will convert 200 minutes to hours by diving by 60\n",
    "200 / 60\n"
   ]
  },
  {
   "cell_type": "markdown",
   "id": "8882fa30",
   "metadata": {},
   "source": [
    "Objectives :\n",
    "* Define Data Science\n",
    "* List popular languages for Data Science\n",
    "* Tools that are used in Data Science\n"
   ]
  },
  {
   "cell_type": "markdown",
   "id": "a609493a",
   "metadata": {},
   "source": [
    "## Author\n",
    "Name : Brandi Dennis \n"
   ]
  }
 ],
 "metadata": {
  "kernelspec": {
   "display_name": "Python 3 (ipykernel)",
   "language": "python",
   "name": "python3"
  },
  "language_info": {
   "codemirror_mode": {
    "name": "ipython",
    "version": 3
   },
   "file_extension": ".py",
   "mimetype": "text/x-python",
   "name": "python",
   "nbconvert_exporter": "python",
   "pygments_lexer": "ipython3",
   "version": "3.11.5"
  }
 },
 "nbformat": 4,
 "nbformat_minor": 5
}
